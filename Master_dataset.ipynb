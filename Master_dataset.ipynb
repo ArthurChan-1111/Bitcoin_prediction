{
  "cells": [
    {
      "cell_type": "markdown",
      "metadata": {
        "id": "view-in-github",
        "colab_type": "text"
      },
      "source": [
        "<a href=\"https://colab.research.google.com/github/ArthurChan-1111/Bitcoin_prediction/blob/main/Master_dataset.ipynb\" target=\"_parent\"><img src=\"https://colab.research.google.com/assets/colab-badge.svg\" alt=\"Open In Colab\"/></a>"
      ]
    },
    {
      "cell_type": "code",
      "execution_count": 1,
      "metadata": {
        "colab": {
          "base_uri": "https://localhost:8080/",
          "height": 950
        },
        "id": "fe_jdv1pJbmt",
        "outputId": "6bad38b6-72a5-477d-fe1d-21953abfb0f2"
      },
      "outputs": [
        {
          "output_type": "stream",
          "name": "stdout",
          "text": [
            "Collecting pandas_ta\n",
            "  Downloading pandas_ta-0.3.14b.tar.gz (115 kB)\n",
            "\u001b[?25l     \u001b[90m━━━━━━━━━━━━━━━━━━━━━━━━━━━━━━━━━━━━━━━━\u001b[0m \u001b[32m0.0/115.1 kB\u001b[0m \u001b[31m?\u001b[0m eta \u001b[36m-:--:--\u001b[0m\r\u001b[2K     \u001b[91m━━━━━━━━━━━━━━━━━━━━━━━━━━━━━━━━━━━━━━━\u001b[0m\u001b[90m╺\u001b[0m \u001b[32m112.6/115.1 kB\u001b[0m \u001b[31m5.2 MB/s\u001b[0m eta \u001b[36m0:00:01\u001b[0m\r\u001b[2K     \u001b[90m━━━━━━━━━━━━━━━━━━━━━━━━━━━━━━━━━━━━━━━━\u001b[0m \u001b[32m115.1/115.1 kB\u001b[0m \u001b[31m2.4 MB/s\u001b[0m eta \u001b[36m0:00:00\u001b[0m\n",
            "\u001b[?25h  Preparing metadata (setup.py) ... \u001b[?25l\u001b[?25hdone\n",
            "Requirement already satisfied: pandas in /usr/local/lib/python3.11/dist-packages (from pandas_ta) (2.2.2)\n",
            "Requirement already satisfied: numpy>=1.23.2 in /usr/local/lib/python3.11/dist-packages (from pandas->pandas_ta) (2.0.2)\n",
            "Requirement already satisfied: python-dateutil>=2.8.2 in /usr/local/lib/python3.11/dist-packages (from pandas->pandas_ta) (2.8.2)\n",
            "Requirement already satisfied: pytz>=2020.1 in /usr/local/lib/python3.11/dist-packages (from pandas->pandas_ta) (2025.2)\n",
            "Requirement already satisfied: tzdata>=2022.7 in /usr/local/lib/python3.11/dist-packages (from pandas->pandas_ta) (2025.2)\n",
            "Requirement already satisfied: six>=1.5 in /usr/local/lib/python3.11/dist-packages (from python-dateutil>=2.8.2->pandas->pandas_ta) (1.17.0)\n",
            "Building wheels for collected packages: pandas_ta\n",
            "  Building wheel for pandas_ta (setup.py) ... \u001b[?25l\u001b[?25hdone\n",
            "  Created wheel for pandas_ta: filename=pandas_ta-0.3.14b0-py3-none-any.whl size=218910 sha256=178be97b0228efba033c7bbc7d6c88f115068816142488502f20998a45276747\n",
            "  Stored in directory: /root/.cache/pip/wheels/7f/33/8b/50b245c5c65433cd8f5cb24ac15d97e5a3db2d41a8b6ae957d\n",
            "Successfully built pandas_ta\n",
            "Installing collected packages: pandas_ta\n",
            "Successfully installed pandas_ta-0.3.14b0\n",
            "Collecting numpy==1.23.5\n",
            "  Downloading numpy-1.23.5-cp311-cp311-manylinux_2_17_x86_64.manylinux2014_x86_64.whl.metadata (2.3 kB)\n",
            "Downloading numpy-1.23.5-cp311-cp311-manylinux_2_17_x86_64.manylinux2014_x86_64.whl (17.1 MB)\n",
            "\u001b[2K   \u001b[90m━━━━━━━━━━━━━━━━━━━━━━━━━━━━━━━━━━━━━━━━\u001b[0m \u001b[32m17.1/17.1 MB\u001b[0m \u001b[31m54.0 MB/s\u001b[0m eta \u001b[36m0:00:00\u001b[0m\n",
            "\u001b[?25hInstalling collected packages: numpy\n",
            "  Attempting uninstall: numpy\n",
            "    Found existing installation: numpy 2.0.2\n",
            "    Uninstalling numpy-2.0.2:\n",
            "      Successfully uninstalled numpy-2.0.2\n",
            "\u001b[31mERROR: pip's dependency resolver does not currently take into account all the packages that are installed. This behaviour is the source of the following dependency conflicts.\n",
            "chex 0.1.89 requires numpy>=1.24.1, but you have numpy 1.23.5 which is incompatible.\n",
            "pymc 5.21.2 requires numpy>=1.25.0, but you have numpy 1.23.5 which is incompatible.\n",
            "scikit-image 0.25.2 requires numpy>=1.24, but you have numpy 1.23.5 which is incompatible.\n",
            "jaxlib 0.5.1 requires numpy>=1.25, but you have numpy 1.23.5 which is incompatible.\n",
            "xarray 2025.1.2 requires numpy>=1.24, but you have numpy 1.23.5 which is incompatible.\n",
            "bigframes 1.42.0 requires numpy>=1.24.0, but you have numpy 1.23.5 which is incompatible.\n",
            "blosc2 3.2.1 requires numpy>=1.26, but you have numpy 1.23.5 which is incompatible.\n",
            "albumentations 2.0.5 requires numpy>=1.24.4, but you have numpy 1.23.5 which is incompatible.\n",
            "treescope 0.1.9 requires numpy>=1.25.2, but you have numpy 1.23.5 which is incompatible.\n",
            "jax 0.5.2 requires numpy>=1.25, but you have numpy 1.23.5 which is incompatible.\n",
            "albucore 0.0.23 requires numpy>=1.24.4, but you have numpy 1.23.5 which is incompatible.\n",
            "imbalanced-learn 0.13.0 requires numpy<3,>=1.24.3, but you have numpy 1.23.5 which is incompatible.\n",
            "tensorflow 2.18.0 requires numpy<2.1.0,>=1.26.0, but you have numpy 1.23.5 which is incompatible.\u001b[0m\u001b[31m\n",
            "\u001b[0mSuccessfully installed numpy-1.23.5\n"
          ]
        },
        {
          "output_type": "display_data",
          "data": {
            "application/vnd.colab-display-data+json": {
              "pip_warning": {
                "packages": [
                  "numpy"
                ]
              },
              "id": "7216824484f64fc1934ffe1158c11ad1"
            }
          },
          "metadata": {}
        },
        {
          "output_type": "stream",
          "name": "stdout",
          "text": [
            "Requirement already satisfied: pandas in /usr/local/lib/python3.11/dist-packages (2.2.2)\n",
            "Requirement already satisfied: numpy>=1.23.2 in /usr/local/lib/python3.11/dist-packages (from pandas) (1.23.5)\n",
            "Requirement already satisfied: python-dateutil>=2.8.2 in /usr/local/lib/python3.11/dist-packages (from pandas) (2.8.2)\n",
            "Requirement already satisfied: pytz>=2020.1 in /usr/local/lib/python3.11/dist-packages (from pandas) (2025.2)\n",
            "Requirement already satisfied: tzdata>=2022.7 in /usr/local/lib/python3.11/dist-packages (from pandas) (2025.2)\n",
            "Requirement already satisfied: six>=1.5 in /usr/local/lib/python3.11/dist-packages (from python-dateutil>=2.8.2->pandas) (1.17.0)\n"
          ]
        }
      ],
      "source": [
        "!pip install pandas_ta\n",
        "!pip install numpy==1.23.5\n",
        "!pip install pandas"
      ]
    },
    {
      "cell_type": "code",
      "execution_count": 2,
      "metadata": {
        "colab": {
          "base_uri": "https://localhost:8080/",
          "height": 530
        },
        "id": "CTX7TsDYc3wx",
        "outputId": "e01ec8ef-f14e-45fc-de34-a0a2a42f98ef"
      },
      "outputs": [
        {
          "output_type": "stream",
          "name": "stdout",
          "text": [
            "Cloning into 'Bitcoin_prediction'...\n",
            "remote: Enumerating objects: 82, done.\u001b[K\n",
            "remote: Counting objects: 100% (82/82), done.\u001b[K\n",
            "remote: Compressing objects: 100% (77/77), done.\u001b[K\n",
            "remote: Total 82 (delta 25), reused 15 (delta 5), pack-reused 0 (from 0)\u001b[K\n",
            "Receiving objects: 100% (82/82), 4.43 MiB | 16.32 MiB/s, done.\n",
            "Resolving deltas: 100% (25/25), done.\n",
            "/content/Bitcoin_prediction\n"
          ]
        },
        {
          "output_type": "error",
          "ename": "ValueError",
          "evalue": "numpy.dtype size changed, may indicate binary incompatibility. Expected 96 from C header, got 88 from PyObject",
          "traceback": [
            "\u001b[0;31m---------------------------------------------------------------------------\u001b[0m",
            "\u001b[0;31mValueError\u001b[0m                                Traceback (most recent call last)",
            "\u001b[0;32m<ipython-input-2-190a044a8844>\u001b[0m in \u001b[0;36m<cell line: 0>\u001b[0;34m()\u001b[0m\n\u001b[1;32m      3\u001b[0m \u001b[0mget_ipython\u001b[0m\u001b[0;34m(\u001b[0m\u001b[0;34m)\u001b[0m\u001b[0;34m.\u001b[0m\u001b[0mrun_line_magic\u001b[0m\u001b[0;34m(\u001b[0m\u001b[0;34m'cd'\u001b[0m\u001b[0;34m,\u001b[0m \u001b[0;34m'Bitcoin_prediction'\u001b[0m\u001b[0;34m)\u001b[0m\u001b[0;34m\u001b[0m\u001b[0;34m\u001b[0m\u001b[0m\n\u001b[1;32m      4\u001b[0m \u001b[0;34m\u001b[0m\u001b[0m\n\u001b[0;32m----> 5\u001b[0;31m \u001b[0;32mimport\u001b[0m \u001b[0mpandas\u001b[0m \u001b[0;32mas\u001b[0m \u001b[0mpd\u001b[0m\u001b[0;34m\u001b[0m\u001b[0;34m\u001b[0m\u001b[0m\n\u001b[0m\u001b[1;32m      6\u001b[0m \u001b[0;32mimport\u001b[0m \u001b[0mpandas_ta\u001b[0m \u001b[0;32mas\u001b[0m \u001b[0mta\u001b[0m\u001b[0;34m\u001b[0m\u001b[0;34m\u001b[0m\u001b[0m\n\u001b[1;32m      7\u001b[0m \u001b[0;32mimport\u001b[0m \u001b[0mcsv\u001b[0m\u001b[0;34m\u001b[0m\u001b[0;34m\u001b[0m\u001b[0m\n",
            "\u001b[0;32m/usr/local/lib/python3.11/dist-packages/pandas/__init__.py\u001b[0m in \u001b[0;36m<module>\u001b[0;34m\u001b[0m\n\u001b[1;32m     35\u001b[0m     ) from _err\n\u001b[1;32m     36\u001b[0m \u001b[0;34m\u001b[0m\u001b[0m\n\u001b[0;32m---> 37\u001b[0;31m from pandas._config import (\n\u001b[0m\u001b[1;32m     38\u001b[0m     \u001b[0mget_option\u001b[0m\u001b[0;34m,\u001b[0m\u001b[0;34m\u001b[0m\u001b[0;34m\u001b[0m\u001b[0m\n\u001b[1;32m     39\u001b[0m     \u001b[0mset_option\u001b[0m\u001b[0;34m,\u001b[0m\u001b[0;34m\u001b[0m\u001b[0;34m\u001b[0m\u001b[0m\n",
            "\u001b[0;32m/usr/local/lib/python3.11/dist-packages/pandas/_config/__init__.py\u001b[0m in \u001b[0;36m<module>\u001b[0;34m\u001b[0m\n\u001b[1;32m     18\u001b[0m     \u001b[0;34m\"warn_copy_on_write\"\u001b[0m\u001b[0;34m,\u001b[0m\u001b[0;34m\u001b[0m\u001b[0;34m\u001b[0m\u001b[0m\n\u001b[1;32m     19\u001b[0m ]\n\u001b[0;32m---> 20\u001b[0;31m \u001b[0;32mfrom\u001b[0m \u001b[0mpandas\u001b[0m\u001b[0;34m.\u001b[0m\u001b[0m_config\u001b[0m \u001b[0;32mimport\u001b[0m \u001b[0mconfig\u001b[0m\u001b[0;34m\u001b[0m\u001b[0;34m\u001b[0m\u001b[0m\n\u001b[0m\u001b[1;32m     21\u001b[0m \u001b[0;32mfrom\u001b[0m \u001b[0mpandas\u001b[0m\u001b[0;34m.\u001b[0m\u001b[0m_config\u001b[0m \u001b[0;32mimport\u001b[0m \u001b[0mdates\u001b[0m  \u001b[0;31m# pyright: ignore[reportUnusedImport]  # noqa: F401\u001b[0m\u001b[0;34m\u001b[0m\u001b[0;34m\u001b[0m\u001b[0m\n\u001b[1;32m     22\u001b[0m from pandas._config.config import (\n",
            "\u001b[0;32m/usr/local/lib/python3.11/dist-packages/pandas/_config/config.py\u001b[0m in \u001b[0;36m<module>\u001b[0;34m\u001b[0m\n\u001b[1;32m     66\u001b[0m \u001b[0;32mimport\u001b[0m \u001b[0mwarnings\u001b[0m\u001b[0;34m\u001b[0m\u001b[0;34m\u001b[0m\u001b[0m\n\u001b[1;32m     67\u001b[0m \u001b[0;34m\u001b[0m\u001b[0m\n\u001b[0;32m---> 68\u001b[0;31m from pandas._typing import (\n\u001b[0m\u001b[1;32m     69\u001b[0m     \u001b[0mF\u001b[0m\u001b[0;34m,\u001b[0m\u001b[0;34m\u001b[0m\u001b[0;34m\u001b[0m\u001b[0m\n\u001b[1;32m     70\u001b[0m     \u001b[0mT\u001b[0m\u001b[0;34m,\u001b[0m\u001b[0;34m\u001b[0m\u001b[0;34m\u001b[0m\u001b[0m\n",
            "\u001b[0;32m/usr/local/lib/python3.11/dist-packages/pandas/_typing.py\u001b[0m in \u001b[0;36m<module>\u001b[0;34m\u001b[0m\n\u001b[1;32m    196\u001b[0m     \u001b[0mint\u001b[0m\u001b[0;34m,\u001b[0m\u001b[0;34m\u001b[0m\u001b[0;34m\u001b[0m\u001b[0m\n\u001b[1;32m    197\u001b[0m     \u001b[0mnp\u001b[0m\u001b[0;34m.\u001b[0m\u001b[0mndarray\u001b[0m\u001b[0;34m,\u001b[0m\u001b[0;34m\u001b[0m\u001b[0;34m\u001b[0m\u001b[0m\n\u001b[0;32m--> 198\u001b[0;31m     \u001b[0mnp\u001b[0m\u001b[0;34m.\u001b[0m\u001b[0mrandom\u001b[0m\u001b[0;34m.\u001b[0m\u001b[0mGenerator\u001b[0m\u001b[0;34m,\u001b[0m\u001b[0;34m\u001b[0m\u001b[0;34m\u001b[0m\u001b[0m\n\u001b[0m\u001b[1;32m    199\u001b[0m     \u001b[0mnp\u001b[0m\u001b[0;34m.\u001b[0m\u001b[0mrandom\u001b[0m\u001b[0;34m.\u001b[0m\u001b[0mBitGenerator\u001b[0m\u001b[0;34m,\u001b[0m\u001b[0;34m\u001b[0m\u001b[0;34m\u001b[0m\u001b[0m\n\u001b[1;32m    200\u001b[0m     \u001b[0mnp\u001b[0m\u001b[0;34m.\u001b[0m\u001b[0mrandom\u001b[0m\u001b[0;34m.\u001b[0m\u001b[0mRandomState\u001b[0m\u001b[0;34m,\u001b[0m\u001b[0;34m\u001b[0m\u001b[0;34m\u001b[0m\u001b[0m\n",
            "\u001b[0;32m/usr/local/lib/python3.11/dist-packages/numpy/__init__.py\u001b[0m in \u001b[0;36m__getattr__\u001b[0;34m(attr)\u001b[0m\n\u001b[1;32m    335\u001b[0m             \u001b[0;32mif\u001b[0m \u001b[0;32mnot\u001b[0m \u001b[0mabs\u001b[0m\u001b[0;34m(\u001b[0m\u001b[0mx\u001b[0m\u001b[0;34m.\u001b[0m\u001b[0mdot\u001b[0m\u001b[0;34m(\u001b[0m\u001b[0mx\u001b[0m\u001b[0;34m)\u001b[0m \u001b[0;34m-\u001b[0m \u001b[0;36m2.0\u001b[0m\u001b[0;34m)\u001b[0m \u001b[0;34m<\u001b[0m \u001b[0;36m1e-5\u001b[0m\u001b[0;34m:\u001b[0m\u001b[0;34m\u001b[0m\u001b[0;34m\u001b[0m\u001b[0m\n\u001b[1;32m    336\u001b[0m                 \u001b[0;32mraise\u001b[0m \u001b[0mAssertionError\u001b[0m\u001b[0;34m(\u001b[0m\u001b[0;34m)\u001b[0m\u001b[0;34m\u001b[0m\u001b[0;34m\u001b[0m\u001b[0m\n\u001b[0;32m--> 337\u001b[0;31m         \u001b[0;32mexcept\u001b[0m \u001b[0mAssertionError\u001b[0m\u001b[0;34m:\u001b[0m\u001b[0;34m\u001b[0m\u001b[0;34m\u001b[0m\u001b[0m\n\u001b[0m\u001b[1;32m    338\u001b[0m             msg = (\"The current Numpy installation ({!r}) fails to \"\n\u001b[1;32m    339\u001b[0m                    \u001b[0;34m\"pass simple sanity checks. This can be caused for example \"\u001b[0m\u001b[0;34m\u001b[0m\u001b[0;34m\u001b[0m\u001b[0m\n",
            "\u001b[0;32m/usr/local/lib/python3.11/dist-packages/numpy/random/__init__.py\u001b[0m in \u001b[0;36m<module>\u001b[0;34m\u001b[0m\n\u001b[1;32m    178\u001b[0m \u001b[0;34m\u001b[0m\u001b[0m\n\u001b[1;32m    179\u001b[0m \u001b[0;31m# add these for module-freeze analysis (like PyInstaller)\u001b[0m\u001b[0;34m\u001b[0m\u001b[0;34m\u001b[0m\u001b[0m\n\u001b[0;32m--> 180\u001b[0;31m \u001b[0;32mfrom\u001b[0m \u001b[0;34m.\u001b[0m \u001b[0;32mimport\u001b[0m \u001b[0m_pickle\u001b[0m\u001b[0;34m\u001b[0m\u001b[0;34m\u001b[0m\u001b[0m\n\u001b[0m\u001b[1;32m    181\u001b[0m \u001b[0;32mfrom\u001b[0m \u001b[0;34m.\u001b[0m \u001b[0;32mimport\u001b[0m \u001b[0m_common\u001b[0m\u001b[0;34m\u001b[0m\u001b[0;34m\u001b[0m\u001b[0m\n\u001b[1;32m    182\u001b[0m \u001b[0;32mfrom\u001b[0m \u001b[0;34m.\u001b[0m \u001b[0;32mimport\u001b[0m \u001b[0m_bounded_integers\u001b[0m\u001b[0;34m\u001b[0m\u001b[0;34m\u001b[0m\u001b[0m\n",
            "\u001b[0;32m/usr/local/lib/python3.11/dist-packages/numpy/random/_pickle.py\u001b[0m in \u001b[0;36m<module>\u001b[0;34m\u001b[0m\n\u001b[0;32m----> 1\u001b[0;31m \u001b[0;32mfrom\u001b[0m \u001b[0;34m.\u001b[0m\u001b[0mmtrand\u001b[0m \u001b[0;32mimport\u001b[0m \u001b[0mRandomState\u001b[0m\u001b[0;34m\u001b[0m\u001b[0;34m\u001b[0m\u001b[0m\n\u001b[0m\u001b[1;32m      2\u001b[0m \u001b[0;32mfrom\u001b[0m \u001b[0;34m.\u001b[0m\u001b[0m_philox\u001b[0m \u001b[0;32mimport\u001b[0m \u001b[0mPhilox\u001b[0m\u001b[0;34m\u001b[0m\u001b[0;34m\u001b[0m\u001b[0m\n\u001b[1;32m      3\u001b[0m \u001b[0;32mfrom\u001b[0m \u001b[0;34m.\u001b[0m\u001b[0m_pcg64\u001b[0m \u001b[0;32mimport\u001b[0m \u001b[0mPCG64\u001b[0m\u001b[0;34m,\u001b[0m \u001b[0mPCG64DXSM\u001b[0m\u001b[0;34m\u001b[0m\u001b[0;34m\u001b[0m\u001b[0m\n\u001b[1;32m      4\u001b[0m \u001b[0;32mfrom\u001b[0m \u001b[0;34m.\u001b[0m\u001b[0m_sfc64\u001b[0m \u001b[0;32mimport\u001b[0m \u001b[0mSFC64\u001b[0m\u001b[0;34m\u001b[0m\u001b[0;34m\u001b[0m\u001b[0m\n\u001b[1;32m      5\u001b[0m \u001b[0;34m\u001b[0m\u001b[0m\n",
            "\u001b[0;32mmtrand.pyx\u001b[0m in \u001b[0;36minit numpy.random.mtrand\u001b[0;34m()\u001b[0m\n",
            "\u001b[0;31mValueError\u001b[0m: numpy.dtype size changed, may indicate binary incompatibility. Expected 96 from C header, got 88 from PyObject"
          ]
        }
      ],
      "source": [
        "!git clone https://github.com/ArthurChan-1111/Bitcoin_prediction.git\n",
        "\n",
        "%cd Bitcoin_prediction\n",
        "\n",
        "import pandas as pd\n",
        "import pandas_ta as ta\n",
        "import csv\n",
        "import numpy as np\n",
        "\n",
        "btc_data = pd.read_csv('Bitcoin Historical Data.csv', on_bad_lines='skip', lineterminator='\\n')\n",
        "btc_data.tail(5)"
      ]
    },
    {
      "cell_type": "code",
      "execution_count": null,
      "metadata": {
        "id": "XWH7v2wHeHJn"
      },
      "outputs": [],
      "source": [
        "# Convert the dictionary to a DataFrame\n",
        "btc_data = pd.DataFrame(btc_data)\n",
        "\n",
        "# 1. Parse the \"Date\" column into datetime format\n",
        "btc_data[\"Date\"] = pd.to_datetime(btc_data[\"Date\"], format=\"%m/%d/%Y\")\n",
        "\n",
        "# 2. Sort the data by date in ascending order\n",
        "btc_data.sort_values(by=\"Date\", ascending=True, inplace=True)"
      ]
    },
    {
      "cell_type": "code",
      "execution_count": null,
      "metadata": {
        "id": "hYeEyw86J_lU"
      },
      "outputs": [],
      "source": [
        "# Calculate RSI, EMA, SMA, and MACD\n",
        "btc_data[\"RSI_6\"] = ta.rsi(btc_data[\"Price\"], length=6)  # Relative Strength Index\n",
        "btc_data[\"RSI_12\"] = ta.rsi(btc_data[\"Price\"], length=12)  # Relative Strength Index\n",
        "btc_data[\"EMA_14\"] = ta.ema(btc_data[\"Price\"], length=14)  # Exponential Moving Average\n",
        "btc_data[\"SMA_14\"] = ta.sma(btc_data[\"Price\"], length=14)  # Simple Moving Average\n",
        "\n",
        "# Calculate MACD\n",
        "macd = ta.macd(btc_data[\"Price\"], fast=12, slow=26, signal=9)\n",
        "btc_data[\"MACD\"] = macd[\"MACD_12_26_9\"]\n",
        "btc_data[\"MACD_Signal\"] = macd[\"MACDs_12_26_9\"]\n",
        "btc_data[\"MACD_Hist\"] = macd[\"MACDh_12_26_9\"]\n",
        "\n",
        "# Display the first few rows of the data with calculated indicators\n",
        "btc_data.tail()"
      ]
    },
    {
      "cell_type": "code",
      "execution_count": null,
      "metadata": {
        "id": "3v-IaunMKCHz"
      },
      "outputs": [],
      "source": [
        "# Calculate Bollinger Bands\n",
        "bollinger_bands = ta.bbands(btc_data[\"Price\"], length=20, std=2)\n",
        "btc_data[\"BB_Upper\"] = bollinger_bands[\"BBU_20_2.0\"]\n",
        "btc_data[\"BB_Middle\"] = bollinger_bands[\"BBM_20_2.0\"]\n",
        "btc_data[\"BB_Lower\"] = bollinger_bands[\"BBL_20_2.0\"]\n",
        "\n",
        "# Percentage difference between Bollinger Bands\n",
        "btc_data[\"BB_Percentage\"] = (\n",
        "    (btc_data[\"BB_Upper\"] - btc_data[\"BB_Lower\"]) / btc_data[\"BB_Middle\"])"
      ]
    },
    {
      "cell_type": "code",
      "execution_count": null,
      "metadata": {
        "id": "cP6-elEXKECd"
      },
      "outputs": [],
      "source": [
        "# Function to clean and convert volume data\n",
        "def clean_volume(volume):\n",
        "    if isinstance(volume, str):  # Check if the value is a string\n",
        "        volume = volume.replace(',', '')  # Remove commas\n",
        "        if 'B' in volume:  # If the value contains 'B' (billions)\n",
        "            return float(volume.replace('B', '')) * 1_000_000_000\n",
        "        elif 'M' in volume:  # If the value contains 'M' (millions)\n",
        "            return float(volume.replace('M', '')) * 1_000_000\n",
        "        elif 'K' in volume:  # If the value contains 'K' (thousands)\n",
        "            return float(volume.replace('K', '')) * 1_000\n",
        "        else:  # If no suffix is present, convert to float directly\n",
        "            return float(volume)\n",
        "    return np.nan  # Handle unexpected cases\n",
        "\n",
        "# Apply the cleaning function to the volume column\n",
        "btc_data[\"Volume\"] = btc_data[\"Vol. ('000)\"].apply(clean_volume)"
      ]
    },
    {
      "cell_type": "code",
      "execution_count": null,
      "metadata": {
        "id": "V2-hATCpKF9M"
      },
      "outputs": [],
      "source": [
        "# Add On-Balance Volume (OBV)\n",
        "btc_data[\"OBV\"] = ta.obv(btc_data[\"Price\"], btc_data[\"Volume\"])"
      ]
    },
    {
      "cell_type": "code",
      "execution_count": null,
      "metadata": {
        "id": "DbJvqPKlKKjc"
      },
      "outputs": [],
      "source": [
        "# Day of the week (0=Monday, 6=Sunday)\n",
        "btc_data[\"Day_of_Week\"] = btc_data[\"Date\"].dt.dayofweek\n",
        "\n",
        "# Week of the year\n",
        "btc_data[\"Week_of_Year\"] = btc_data[\"Date\"].dt.isocalendar().week\n",
        "\n",
        "# Month of the year\n",
        "btc_data[\"Month\"] = btc_data[\"Date\"].dt.month\n",
        "\n",
        "# Quarter of the year\n",
        "btc_data[\"Quarter\"] = btc_data[\"Date\"].dt.quarter\n",
        "\n",
        "# Year\n",
        "btc_data[\"Year\"] = btc_data[\"Date\"].dt.year"
      ]
    },
    {
      "cell_type": "code",
      "execution_count": null,
      "metadata": {
        "id": "6Y-jkoPrKL_7"
      },
      "outputs": [],
      "source": [
        "# Support and Resistance Levels\n",
        "btc_data[\"Support\"] = btc_data[\"Low\"].rolling(window=20).min()  # Lowest low in the past 20 days\n",
        "btc_data[\"Resistance\"] = btc_data[\"High\"].rolling(window=20).max()  # Highest high in the past 20 days"
      ]
    },
    {
      "cell_type": "code",
      "execution_count": null,
      "metadata": {
        "id": "T_68Vzq2KOQE"
      },
      "outputs": [],
      "source": [
        "# Calculate the percentage price change over the next 7 days (Target Variable for Regression)\n",
        "btc_data[\"Pct_Change\"] = ((btc_data[\"Price\"].shift(-7) - btc_data[\"Price\"]) / btc_data[\"Price\"]) * 100"
      ]
    },
    {
      "cell_type": "code",
      "execution_count": null,
      "metadata": {
        "id": "ONCvlpflKPvr"
      },
      "outputs": [],
      "source": [
        "# Drop the original \"Vol. ('000)\" column\n",
        "btc_data.drop(columns=[\"Vol. ('000)\"], inplace=True)\n",
        "\n",
        "# Reset index\n",
        "btc_data.reset_index(drop=True, inplace=True)"
      ]
    },
    {
      "cell_type": "code",
      "execution_count": null,
      "metadata": {
        "id": "lIjOqTtHKSW0"
      },
      "outputs": [],
      "source": [
        "btc_data.info()"
      ]
    },
    {
      "cell_type": "code",
      "execution_count": null,
      "metadata": {
        "id": "nVkE6eBTKYfU"
      },
      "outputs": [],
      "source": [
        "btc_data.head()"
      ]
    },
    {
      "cell_type": "code",
      "execution_count": null,
      "metadata": {
        "id": "ulnyXACeKaVj"
      },
      "outputs": [],
      "source": [
        "btc_data.tail()"
      ]
    },
    {
      "cell_type": "code",
      "execution_count": null,
      "metadata": {
        "id": "m8eae4UiLiZ0"
      },
      "outputs": [],
      "source": [
        "#draw the data from the fear and greed index\n",
        "fear_and_greed_index = pd.read_csv('fear_and_greed_index.csv')\n",
        "# rename the date column in fear_and_greed_index to Date\n",
        "fear_and_greed_index.rename(columns={\"date\": \"Date\"}, inplace=True)\n",
        "# convert the date column to datetime\n",
        "fear_and_greed_index[\"Date\"] = pd.to_datetime(fear_and_greed_index[\"Date\"], format=\"%Y-%m-%d\")\n",
        "# dropping the timestamp, value_classification, time_until_update columns\n",
        "fear_and_greed_index.drop(columns=[\"timestamp\", \"value_classification\", \"time_until_update\"], inplace=True)\n",
        "fear_and_greed_index.head()"
      ]
    },
    {
      "cell_type": "code",
      "execution_count": null,
      "metadata": {
        "id": "8aik829fZRqg"
      },
      "outputs": [],
      "source": [
        "# Join the two dataframes on the \"Date\" column, dropping\n",
        "btc_data = btc_data.merge(fear_and_greed_index, on=\"Date\", how=\"left\")\n",
        "btc_data.head()"
      ]
    },
    {
      "cell_type": "code",
      "execution_count": null,
      "metadata": {
        "id": "flr5-yEIZRqg"
      },
      "outputs": [],
      "source": [
        "# rename the value column to Fear_and_Greed_Index\n",
        "btc_data.rename(columns={\"value\": \"Fear_and_Greed_Index\"}, inplace=True)\n",
        "# normalize the Fear_and_Greed_Index column\n",
        "btc_data[\"Fear_and_Greed_Index\"] = (btc_data[\"Fear_and_Greed_Index\"] - btc_data[\"Fear_and_Greed_Index\"].min()) / (btc_data[\"Fear_and_Greed_Index\"].max() - btc_data[\"Fear_and_Greed_Index\"].min())\n",
        "btc_data.describe().T"
      ]
    },
    {
      "cell_type": "code",
      "execution_count": null,
      "metadata": {
        "id": "cfVz4dC1ZRqg"
      },
      "outputs": [],
      "source": [
        "# Add two columns for extreme fear and extreme greed\n",
        "btc_data[\"Extreme_Fear\"] = np.where(btc_data[\"Fear_and_Greed_Index\"] < 0.2, 1, 0)\n",
        "btc_data[\"Extreme_Greed\"] = np.where(btc_data[\"Fear_and_Greed_Index\"] > 0.8, 1, 0)\n",
        "btc_data.describe().T"
      ]
    },
    {
      "cell_type": "code",
      "execution_count": null,
      "metadata": {
        "id": "fJMdfPYoZRqg"
      },
      "outputs": [],
      "source": [
        "# Use 70 in RSI to classify overbought and 30 to classify oversold\n",
        "btc_data[\"RSI_12_Overbought\"] = np.where(btc_data[\"RSI_12\"] > 70, 1, 0)\n",
        "btc_data[\"RSI_12_Oversold\"] = np.where(btc_data[\"RSI_12\"] < 30, 1, 0)\n",
        "btc_data.describe().T"
      ]
    },
    {
      "cell_type": "code",
      "execution_count": null,
      "metadata": {
        "id": "DY6B_2RLZRqg"
      },
      "outputs": [],
      "source": [
        "# Adding RSI_6 greater than RSI_12 to show bullish divergence and conversely\n",
        "btc_data[\"RSI_Bullish_Divergence\"] = np.where(btc_data[\"RSI_6\"] > btc_data[\"RSI_12\"], 1, 0)\n",
        "btc_data[\"RSI_Bearish_Divergence\"] = np.where(btc_data[\"RSI_6\"] < btc_data[\"RSI_12\"], 1, 0)\n",
        "btc_data.describe().T"
      ]
    },
    {
      "cell_type": "code",
      "execution_count": null,
      "metadata": {
        "id": "wL_tWwqWZRqh"
      },
      "outputs": [],
      "source": [
        "#Define the cup and handle pattern in the price data\n",
        "def cup_and_handle_pattern(data):\n",
        "    # Initialize the pattern column\n",
        "    data[\"Cup_and_Handle\"] = 0\n",
        "\n",
        "    # Loop through the data to identify if there is a cup pattern first, the cup pattern is defined as a U shape in a perioud from 7 dayas to 30 days, 5% error is allowed.\n",
        "    for i in range(30, len(data) - 7):\n",
        "        # Check if the current price is lower than the previous 30 days\n",
        "        if data[\"Price\"][i] < data[\"Price\"][i - 30:i].min() * 0.95:\n",
        "            # Check if the next 7 days are higher than the current price\n",
        "            if data[\"Price\"][i + 1:i + 8].max() > data[\"Price\"][i] * 1.05:\n",
        "                # Check if the next 7 days are having a downtrend with the price around 50% of the cup height, cup height is defined as the difference between the current price and the minimum price in the last 30 days\n",
        "                cup_height = data[\"Price\"][i] - data[\"Price\"][i - 30:i].min()\n",
        "                if data[\"Price\"][i + 1:i + 8].min() < data[\"Price\"][i] - cup_height * 0.5:\n",
        "                    # Check if the next 7 days are higher than the current price\n",
        "                    if data[\"Price\"][i + 8:i + 15].max() > data[\"Price\"][i] * 1.05:\n",
        "                        # Mark as cup and handle pattern\n",
        "                        data.at[i, \"Cup_and_Handle\"] = 1\n",
        "    return data\n",
        "\n",
        "# Apply the function to the data\n",
        "btc_data = cup_and_handle_pattern(btc_data)\n",
        "# Plot the first ten cup and handle patterns with time period 60 days before and after\n",
        "import matplotlib.pyplot as plt\n",
        "\n",
        "# Find the indices of the first ten cup and handle patterns\n",
        "cup_and_handle_indices = btc_data[btc_data[\"Cup_and_Handle\"] == 1].index[:10]\n",
        "\n",
        "# Plot each pattern\n",
        "for idx in cup_and_handle_indices:\n",
        "    start_idx = max(0, idx - 60)  # Ensure we don't go out of bounds\n",
        "    end_idx = min(len(btc_data), idx + 60)\n",
        "    pattern_data = btc_data.iloc[start_idx:end_idx]\n",
        "\n",
        "    plt.figure(figsize=(10, 6))\n",
        "    plt.plot(pattern_data[\"Date\"], pattern_data[\"Price\"], label=\"Price\")\n",
        "    plt.axvline(x=btc_data.iloc[idx][\"Date\"], color=\"red\", linestyle=\"--\", label=\"Cup and Handle\")\n",
        "    plt.title(f\"Cup and Handle Pattern around {btc_data.iloc[idx]['Date']}\")\n",
        "    plt.xlabel(\"Date\")\n",
        "    plt.ylabel(\"Price\")\n",
        "    plt.legend()\n",
        "    plt.grid()\n",
        "    plt.show()\n"
      ]
    },
    {
      "cell_type": "code",
      "execution_count": null,
      "metadata": {
        "id": "_Up0Vzt9ZRqh"
      },
      "outputs": [],
      "source": [
        "btc_data.describe().T"
      ]
    },
    {
      "cell_type": "code",
      "execution_count": null,
      "metadata": {
        "id": "ihpXh58EZRqh"
      },
      "outputs": [],
      "source": []
    }
  ],
  "metadata": {
    "colab": {
      "provenance": [],
      "include_colab_link": true
    },
    "kernelspec": {
      "display_name": "base",
      "language": "python",
      "name": "python3"
    },
    "language_info": {
      "codemirror_mode": {
        "name": "ipython",
        "version": 3
      },
      "file_extension": ".py",
      "mimetype": "text/x-python",
      "name": "python",
      "nbconvert_exporter": "python",
      "pygments_lexer": "ipython3",
      "version": "3.12.4"
    }
  },
  "nbformat": 4,
  "nbformat_minor": 0
}